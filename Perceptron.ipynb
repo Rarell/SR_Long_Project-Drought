{
 "cells": [
  {
   "cell_type": "code",
   "execution_count": 1,
   "metadata": {},
   "outputs": [
    {
     "data": {
      "application/vnd.jupyter.widget-view+json": {
       "model_id": "845b4ad396184313be68b522a7d65252",
       "version_major": 2,
       "version_minor": 0
      },
      "text/plain": [
       "HBox(children=(VBox(children=(Button(description='Previous', style=ButtonStyle()), Button(description='Next', …"
      ]
     },
     "metadata": {},
     "output_type": "display_data"
    }
   ],
   "source": [
    "import numpy as np\n",
    "import matplotlib.pyplot as plt\n",
    "from scipy import stats\n",
    "from datetime import datetime, timedelta\n",
    "\n",
    "# Load functions to load data and make decision trees\n",
    "%run ./load_nc_and_subset.ipynb"
   ]
  },
  {
   "cell_type": "code",
   "execution_count": 3,
   "metadata": {},
   "outputs": [
    {
     "ename": "MemoryError",
     "evalue": "Unable to allocate 82.0 MiB for an array with shape (98, 210, 522) and data type float64",
     "output_type": "error",
     "traceback": [
      "\u001b[1;31m---------------------------------------------------------------------------\u001b[0m",
      "\u001b[1;31mMemoryError\u001b[0m                               Traceback (most recent call last)",
      "\u001b[1;32m<ipython-input-3-becce7cd8283>\u001b[0m in \u001b[0;36m<module>\u001b[1;34m\u001b[0m\n\u001b[0;32m     10\u001b[0m \u001b[0musdmSName\u001b[0m \u001b[1;33m=\u001b[0m \u001b[1;34m'USDM'\u001b[0m\u001b[1;33m\u001b[0m\u001b[1;33m\u001b[0m\u001b[0m\n\u001b[0;32m     11\u001b[0m \u001b[1;33m\u001b[0m\u001b[0m\n\u001b[1;32m---> 12\u001b[1;33m \u001b[0msesr\u001b[0m \u001b[1;33m=\u001b[0m \u001b[0mLoadNC\u001b[0m\u001b[1;33m(\u001b[0m\u001b[0msesrFName\u001b[0m\u001b[1;33m)\u001b[0m\u001b[1;33m\u001b[0m\u001b[1;33m\u001b[0m\u001b[0m\n\u001b[0m\u001b[0;32m     13\u001b[0m \u001b[0mspi\u001b[0m  \u001b[1;33m=\u001b[0m \u001b[0mLoadNC\u001b[0m\u001b[1;33m(\u001b[0m\u001b[0mspiFName\u001b[0m\u001b[1;33m)\u001b[0m\u001b[1;33m\u001b[0m\u001b[1;33m\u001b[0m\u001b[0m\n\u001b[0;32m     14\u001b[0m \u001b[0musdm\u001b[0m \u001b[1;33m=\u001b[0m \u001b[0mLoadNCnomask\u001b[0m\u001b[1;33m(\u001b[0m\u001b[0musdmFName\u001b[0m\u001b[1;33m)\u001b[0m\u001b[1;33m\u001b[0m\u001b[1;33m\u001b[0m\u001b[0m\n",
      "\u001b[1;32m<ipython-input-1-103287ec4459>\u001b[0m in \u001b[0;36mLoadNC\u001b[1;34m(filename, path)\u001b[0m\n\u001b[0;32m     31\u001b[0m             \u001b[0mX\u001b[0m\u001b[1;33m[\u001b[0m\u001b[1;34m'mask'\u001b[0m\u001b[1;33m]\u001b[0m \u001b[1;33m=\u001b[0m \u001b[0mnc\u001b[0m\u001b[1;33m.\u001b[0m\u001b[0mvariables\u001b[0m\u001b[1;33m[\u001b[0m\u001b[1;34m'mask'\u001b[0m\u001b[1;33m]\u001b[0m\u001b[1;33m[\u001b[0m\u001b[1;33m:\u001b[0m\u001b[1;33m,\u001b[0m\u001b[1;33m:\u001b[0m\u001b[1;33m]\u001b[0m\u001b[1;33m\u001b[0m\u001b[1;33m\u001b[0m\u001b[0m\n\u001b[0;32m     32\u001b[0m         \u001b[1;31m# Collect the data itself\u001b[0m\u001b[1;33m\u001b[0m\u001b[1;33m\u001b[0m\u001b[1;33m\u001b[0m\u001b[0m\n\u001b[1;32m---> 33\u001b[1;33m         \u001b[0mX\u001b[0m\u001b[1;33m[\u001b[0m\u001b[0mstr\u001b[0m\u001b[1;33m(\u001b[0m\u001b[0mSName\u001b[0m\u001b[1;33m)\u001b[0m\u001b[1;33m]\u001b[0m \u001b[1;33m=\u001b[0m \u001b[0mnc\u001b[0m\u001b[1;33m.\u001b[0m\u001b[0mvariables\u001b[0m\u001b[1;33m[\u001b[0m\u001b[0mstr\u001b[0m\u001b[1;33m(\u001b[0m\u001b[0mSName\u001b[0m\u001b[1;33m)\u001b[0m\u001b[1;33m]\u001b[0m\u001b[1;33m[\u001b[0m\u001b[1;33m:\u001b[0m\u001b[1;33m,\u001b[0m\u001b[1;33m:\u001b[0m\u001b[1;33m,\u001b[0m\u001b[1;33m:\u001b[0m\u001b[1;33m]\u001b[0m\u001b[1;33m\u001b[0m\u001b[1;33m\u001b[0m\u001b[0m\n\u001b[0m\u001b[0;32m     34\u001b[0m     \u001b[1;32mreturn\u001b[0m \u001b[0mX\u001b[0m\u001b[1;33m\u001b[0m\u001b[1;33m\u001b[0m\u001b[0m\n",
      "\u001b[1;32mnetCDF4\\_netCDF4.pyx\u001b[0m in \u001b[0;36mnetCDF4._netCDF4.Variable.__getitem__\u001b[1;34m()\u001b[0m\n",
      "\u001b[1;32mnetCDF4\\_netCDF4.pyx\u001b[0m in \u001b[0;36mnetCDF4._netCDF4.Variable._get\u001b[1;34m()\u001b[0m\n",
      "\u001b[1;31mMemoryError\u001b[0m: Unable to allocate 82.0 MiB for an array with shape (98, 210, 522) and data type float64"
     ]
    }
   ],
   "source": [
    "# Import data\n",
    "\n",
    "\n",
    "sesrFName = 'sesr_all_years_USDMTimeScale_conus.nc'\n",
    "spiFName  = 'SPI_all_years_USDMTimeScale_conus.nc'\n",
    "usdmFName = 'USDM_grid_all_years.nc'\n",
    "\n",
    "sesrSName = 'sesr'\n",
    "spiSName  = 'SPI'\n",
    "usdmSName = 'USDM'\n",
    "\n",
    "sesr = LoadNC(sesrFName)\n",
    "spi  = LoadNC(spiFName)\n",
    "usdm = LoadNCnomask(usdmFName)"
   ]
  },
  {
   "cell_type": "code",
   "execution_count": 4,
   "metadata": {},
   "outputs": [],
   "source": [
    "# Correct the mask\n",
    "def load2Dnc(filename, SName, path = '../Data/'):\n",
    "    '''\n",
    "    '''\n",
    "    \n",
    "    with Dataset(path + filename, 'r') as nc:\n",
    "        var = nc.variables[SName][:,:]\n",
    "        \n",
    "    return var\n",
    "\n",
    "mask = load2Dnc('land.nc', 'land')\n",
    "lat = load2Dnc('lat_narr.nc', 'lat') # Dataset is lat x lon\n",
    "lon = load2Dnc('lon_narr.nc', 'lon') # Dataset is lat x lon\n",
    "\n",
    "# Turn positive lon values into negative\n",
    "for i in range(len(lon[:,0])):\n",
    "    ind = np.where( lon[i,:] > 0 )[0]\n",
    "    lon[i,ind] = -1*lon[i,ind]\n",
    "\n",
    "# Turn mask from time x lat x lon into lat x lon x time\n",
    "T, I, J = mask.shape\n",
    "\n",
    "maskNew = np.ones((I, J, T)) * np.nan\n",
    "maskNew[:,:,0] = mask[0,:,:] # No loop is needed since the time dimension has length 1\n",
    "\n",
    "# Subset the data to the same values as the criteria data\n",
    "LatMin = 25\n",
    "LatMax = 50\n",
    "LonMin = -130\n",
    "LonMax = -65\n",
    "maskSub, LatSub, LonSub = SubsetData(maskNew, lat, lon, LatMin = LatMin, LatMax = LatMax,\n",
    "                                     LonMin = LonMin, LonMax = LonMax)"
   ]
  },
  {
   "cell_type": "code",
   "execution_count": 5,
   "metadata": {},
   "outputs": [
    {
     "ename": "IndexError",
     "evalue": "only integers, slices (`:`), ellipsis (`...`), numpy.newaxis (`None`) and integer or boolean arrays are valid indices",
     "output_type": "error",
     "traceback": [
      "\u001b[1;31m---------------------------------------------------------------------------\u001b[0m",
      "\u001b[1;31mIndexError\u001b[0m                                Traceback (most recent call last)",
      "\u001b[1;32m<ipython-input-5-f065f1be9ae0>\u001b[0m in \u001b[0;36m<module>\u001b[1;34m\u001b[0m\n\u001b[0;32m      2\u001b[0m \u001b[1;33m\u001b[0m\u001b[0m\n\u001b[0;32m      3\u001b[0m \u001b[1;31m# For simplicity, consider only cases where there is or is not drought. Worry about intensity another day.\u001b[0m\u001b[1;33m\u001b[0m\u001b[1;33m\u001b[0m\u001b[1;33m\u001b[0m\u001b[0m\n\u001b[1;32m----> 4\u001b[1;33m \u001b[0musdm\u001b[0m\u001b[1;33m[\u001b[0m\u001b[1;34m'USDM'\u001b[0m\u001b[1;33m]\u001b[0m\u001b[1;33m[\u001b[0m\u001b[0musdm\u001b[0m\u001b[1;33m[\u001b[0m\u001b[1;34m'USDM'\u001b[0m\u001b[1;33m]\u001b[0m \u001b[1;33m>\u001b[0m \u001b[1;36m0\u001b[0m\u001b[1;33m]\u001b[0m \u001b[1;33m=\u001b[0m \u001b[1;36m1\u001b[0m\u001b[1;33m\u001b[0m\u001b[1;33m\u001b[0m\u001b[0m\n\u001b[0m\u001b[0;32m      5\u001b[0m \u001b[0musdm\u001b[0m\u001b[1;33m[\u001b[0m\u001b[1;34m'USDM'\u001b[0m\u001b[1;33m]\u001b[0m\u001b[1;33m[\u001b[0m\u001b[0musdm\u001b[0m\u001b[1;33m[\u001b[0m\u001b[1;34m'USDM'\u001b[0m\u001b[1;33m]\u001b[0m \u001b[1;33m==\u001b[0m \u001b[1;36m0\u001b[0m\u001b[1;33m]\u001b[0m \u001b[1;33m=\u001b[0m \u001b[1;33m-\u001b[0m\u001b[1;36m1\u001b[0m\u001b[1;33m\u001b[0m\u001b[1;33m\u001b[0m\u001b[0m\n\u001b[0;32m      6\u001b[0m \u001b[1;33m\u001b[0m\u001b[0m\n",
      "\u001b[1;31mIndexError\u001b[0m: only integers, slices (`:`), ellipsis (`...`), numpy.newaxis (`None`) and integer or boolean arrays are valid indices"
     ]
    }
   ],
   "source": [
    "# Process data\n",
    "\n",
    "# For simplicity, consider only cases where there is or is not drought. Worry about intensity another day.\n",
    "usdm['USDM'][usdm['USDM'] > 0] = 1\n",
    "usdm['USDM'][usdm['USDM'] == 0] = -1\n",
    "\n",
    "# Ensure the land-sea mask has been applied\n",
    "usdm['USDM'][maskSub[:,:,0] == 0] = np.nan\n",
    "sesr['sesr'][maskSub[:,:,0] == 0] = np.nan\n",
    "spi['SPI'][maskSub[:,:,0] == 0] = np.nan\n",
    "\n",
    "# Collect the training data (2019, a null year, and 2011 an extreme drought year)\n",
    "TestInd = np.where( (usdm['year'] == 2011) | (usdm['year'] == 2019) )[0]\n",
    "TrainValInd = np.where( (usdm['year'] != 2011) & (usdm['year'] != 2019) )[0]\n",
    "\n",
    "sesr_test = sesr['sesr'][:,:,TestInd]\n",
    "spi_test  = spi['SPI'][:,:,TestInd]\n",
    "usdm_test = usdm['USDM'][:,:,TestInd]\n",
    "\n",
    "sesr_TrainVal = sesr['sesr'][:,:,TrainValInd]\n",
    "spi_TrainVal  = spi['SPI'][:,:,TrainValInd]\n",
    "usdm_TrainVal = usdm['USDM'][:,:,TrainValInd]\n",
    "\n",
    "# Collect the training and validation datasets. Use 2017, drought in northern plains, as a validation set\n",
    "ValInd = np.where(usdm['year'] == 2017)[0]\n",
    "TrainInd = np.where( (usdm['year'] != 2011) & (usdm['year'] != 2017) & (usdm['year'] != 2019) )[0]\n",
    "\n",
    "sesr_train = sesr['sesr'][:,:,TrainInd]\n",
    "spi_train  = spi['SPI'][:,:,TrainInd]\n",
    "usdm_train = usdm['USDM'][:,:,TrainInd]\n",
    "\n",
    "sesr_val = sesr['sesr'][:,:,ValInd]\n",
    "spi_val  = spi['SPI'][:,:,ValInd]\n",
    "usdm_val = usdm['USDM'][:,:,ValInd]\n",
    "\n",
    "# Transform the data into 1D arrays for easier iterations in the SL learning.\n",
    "I, J, T_train = usdm_train.shape\n",
    "T_val         = usdm_val.shape[-1]\n",
    "T_train_val   = usdm_TrainVal.shape[-1]\n",
    "T_test        = usdm_test.shape[-1]\n",
    "\n",
    "# USDM is the label, therefore is the y vector in the learning algorithms.\n",
    "y_train     = usdm_train.reshape(I*J*T_train, order = 'F')\n",
    "y_val       = usdm_val.reshape(I*J*T_val, order = 'F')\n",
    "y_train_val = usdm_TrainVal.reshape(I*J*T_train_val, order = 'F')\n",
    "y_test      = usdm_test.reshape(I*J*T_test, order = 'F')\n",
    "\n",
    "\n",
    "sesr_train1D     = sesr_train.reshape(I*J*T_train, order = 'F')\n",
    "sesr_val1D       = sesr_val.reshape(I*J*T_val, order = 'F')\n",
    "sesr_train_val1D = sesr_TrainVal.reshape(I*J*T_train_val, order = 'F')\n",
    "sesr_test1D      = sesr_test.reshape(I*J*T_test, order = 'F')\n",
    "\n",
    "spi_train1D     = spi_train.reshape(I*J*T_train, order = 'F')\n",
    "spi_val1D       = spi_val.reshape(I*J*T_val, order = 'F')\n",
    "spi_train_val1D = spi_TrainVal.reshape(I*J*T_train_val, order = 'F')\n",
    "spi_test1D      = spi_test.reshape(I*J*T_test, order = 'F')\n",
    "\n",
    "\n",
    "# Finally, the features are the compination of SESR and SPI\n",
    "# For x, the first column is SESR, the second is SPI. shape[-1] is the number of features\n",
    "x_train     = np.asarray([sesr_train1D, spi_train1D]).T\n",
    "x_val       = np.asarray([sesr_val1D, spi_val1D]).T\n",
    "x_train_val = np.asarray([sesr_train_val1D, spi_train_val1D]).T\n",
    "x_test      = np.asarray([sesr_test1D, spi_test1D]).T"
   ]
  },
  {
   "cell_type": "code",
   "execution_count": 10,
   "metadata": {},
   "outputs": [],
   "source": [
    "# Create Perceptron class for predictions\n",
    "class Perceptron:\n",
    "  \n",
    "  # Constructor for when a Perceptron is created\n",
    "  def __init__ (self):\n",
    "    self.w = None\n",
    "    self.b = None\n",
    "    \n",
    "  # Model \n",
    "  def model(self, x):\n",
    "        \n",
    "    return 1 if (np.dot(self.w, x) >= self.b) else -1\n",
    "  \n",
    "  #predictor to predict on the data based on w\n",
    "  def predict(self, X):\n",
    "    Y = []\n",
    "    for x in X:\n",
    "      result = self.model(x)\n",
    "      Y.append(result)\n",
    "    return np.array(Y)\n",
    "    \n",
    "  def fit(self, X, Y, epochs = 1, lr = 1):\n",
    "    self.w = np.ones(X.shape[1])\n",
    "    self.b = 0\n",
    "    accuracy = {}\n",
    "    max_accuracy = 0\n",
    "    wt_matrix = []\n",
    "    \n",
    "    # Update the weight array epochs times for each element in the training arrays\n",
    "    for i in range(epochs):\n",
    "      for x, y in zip(X, Y):\n",
    "        y_pred = self.model(x)\n",
    "        if y == 1 and y_pred == -1:\n",
    "          self.w = self.w + lr * x\n",
    "          self.b = self.b - lr * 1\n",
    "        elif y == -1 and y_pred == 1:\n",
    "          self.w = self.w - lr * x\n",
    "          self.b = self.b + lr * 1\n",
    "          \n",
    "      wt_matrix.append(self.w)    \n",
    "      accuracy[i] = accuracy_score(self.predict(X), Y)\n",
    "      if (accuracy[i] > max_accuracy):\n",
    "        max_accuracy = accuracy[i]\n",
    "        chkptw = self.w\n",
    "        chkptb = self.b\n",
    "        \n",
    "    #checkpoint (Save the weights and b value)\n",
    "    self.w = chkptw\n",
    "    self.b = chkptb\n",
    "    \n",
    "    #return the weight matrix, that contains weights over all epochs\n",
    "    return np.array(wt_matrix)"
   ]
  },
  {
   "cell_type": "code",
   "execution_count": 5,
   "metadata": {},
   "outputs": [
    {
     "ename": "NameError",
     "evalue": "name 'x_train' is not defined",
     "output_type": "error",
     "traceback": [
      "\u001b[1;31m---------------------------------------------------------------------------\u001b[0m",
      "\u001b[1;31mNameError\u001b[0m                                 Traceback (most recent call last)",
      "\u001b[1;32m<ipython-input-5-6bdbdf7d27ce>\u001b[0m in \u001b[0;36m<module>\u001b[1;34m\u001b[0m\n\u001b[0;32m      5\u001b[0m \u001b[1;31m# This test tries to see if SESR has a link to USDM\u001b[0m\u001b[1;33m\u001b[0m\u001b[1;33m\u001b[0m\u001b[1;33m\u001b[0m\u001b[0m\n\u001b[0;32m      6\u001b[0m \u001b[1;33m\u001b[0m\u001b[0m\n\u001b[1;32m----> 7\u001b[1;33m \u001b[0mw_matrix\u001b[0m \u001b[1;33m=\u001b[0m \u001b[0mperc\u001b[0m\u001b[1;33m.\u001b[0m\u001b[0mfit\u001b[0m\u001b[1;33m(\u001b[0m\u001b[0mx_train\u001b[0m\u001b[1;33m[\u001b[0m\u001b[1;36m0\u001b[0m\u001b[1;33m]\u001b[0m\u001b[1;33m,\u001b[0m \u001b[0my_train\u001b[0m\u001b[1;33m,\u001b[0m \u001b[1;36m100\u001b[0m\u001b[1;33m,\u001b[0m \u001b[1;36m.5\u001b[0m\u001b[1;33m)\u001b[0m\u001b[1;33m\u001b[0m\u001b[1;33m\u001b[0m\u001b[0m\n\u001b[0m\u001b[0;32m      8\u001b[0m \u001b[1;33m\u001b[0m\u001b[0m\n\u001b[0;32m      9\u001b[0m \u001b[0my_val_predict\u001b[0m \u001b[1;33m=\u001b[0m \u001b[0mprec\u001b[0m\u001b[1;33m.\u001b[0m\u001b[0mpredict\u001b[0m\u001b[1;33m(\u001b[0m\u001b[0mx_val\u001b[0m\u001b[1;33m[\u001b[0m\u001b[1;36m0\u001b[0m\u001b[1;33m]\u001b[0m\u001b[1;33m)\u001b[0m\u001b[1;33m\u001b[0m\u001b[1;33m\u001b[0m\u001b[0m\n",
      "\u001b[1;31mNameError\u001b[0m: name 'x_train' is not defined"
     ]
    }
   ],
   "source": [
    "# Run the created Perceptron\n",
    "perc = Perceptron()\n",
    "\n",
    "# Fitting Training Data with 100 epochs and a learning rate of .5\n",
    "# This test tries to see if SESR has a link to USDM\n",
    "\n",
    "w_matrix = perc.fit(x_train[0], y_train, 100, .5)\n",
    "\n",
    "y_val_predict = prec.predict(x_val[0])\n",
    "\n",
    "print(y_val_predict)"
   ]
  },
  {
   "cell_type": "code",
   "execution_count": null,
   "metadata": {},
   "outputs": [],
   "source": []
  }
 ],
 "metadata": {
  "kernelspec": {
   "display_name": "PyCharm (StoneSoup)",
   "language": "python",
   "name": "pycharm-ca8e2acd"
  },
  "language_info": {
   "codemirror_mode": {
    "name": "ipython",
    "version": 3
   },
   "file_extension": ".py",
   "mimetype": "text/x-python",
   "name": "python",
   "nbconvert_exporter": "python",
   "pygments_lexer": "ipython3",
   "version": "3.8.3"
  }
 },
 "nbformat": 4,
 "nbformat_minor": 4
}
