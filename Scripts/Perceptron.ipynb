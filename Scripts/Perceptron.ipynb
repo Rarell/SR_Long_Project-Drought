{
 "cells": [
  {
   "cell_type": "code",
   "execution_count": 1,
   "metadata": {},
   "outputs": [
    {
     "ename": "ModuleNotFoundError",
     "evalue": "No module named 'netCDF4'",
     "output_type": "error",
     "traceback": [
      "\u001b[1;31m---------------------------------------------------------------------------\u001b[0m",
      "\u001b[1;31mModuleNotFoundError\u001b[0m                       Traceback (most recent call last)",
      "\u001b[1;32m<ipython-input-1-427a73e653de>\u001b[0m in \u001b[0;36m<module>\u001b[1;34m\u001b[0m\n\u001b[0;32m      4\u001b[0m \u001b[1;32mimport\u001b[0m \u001b[0mnumpy\u001b[0m \u001b[1;32mas\u001b[0m \u001b[0mnp\u001b[0m\u001b[1;33m\u001b[0m\u001b[1;33m\u001b[0m\u001b[0m\n\u001b[0;32m      5\u001b[0m \u001b[1;32mfrom\u001b[0m \u001b[0mscipy\u001b[0m \u001b[1;32mimport\u001b[0m \u001b[0mstats\u001b[0m\u001b[1;33m\u001b[0m\u001b[1;33m\u001b[0m\u001b[0m\n\u001b[1;32m----> 6\u001b[1;33m \u001b[1;32mfrom\u001b[0m \u001b[0mnetCDF4\u001b[0m \u001b[1;32mimport\u001b[0m \u001b[0mDataset\u001b[0m\u001b[1;33m,\u001b[0m \u001b[0mnum2date\u001b[0m\u001b[1;33m\u001b[0m\u001b[1;33m\u001b[0m\u001b[0m\n\u001b[0m\u001b[0;32m      7\u001b[0m \u001b[1;32mfrom\u001b[0m \u001b[0mdatetime\u001b[0m \u001b[1;32mimport\u001b[0m \u001b[0mdatetime\u001b[0m\u001b[1;33m,\u001b[0m \u001b[0mtimedelta\u001b[0m\u001b[1;33m\u001b[0m\u001b[1;33m\u001b[0m\u001b[0m\n",
      "\u001b[1;31mModuleNotFoundError\u001b[0m: No module named 'netCDF4'"
     ]
    }
   ],
   "source": [
    "# Import libraries\n",
    "\n",
    "import os, sys, warnings\n",
    "import numpy as np\n",
    "from scipy import stats\n",
    "from datetime import datetime, timedelta"
   ]
  },
  {
   "cell_type": "code",
   "execution_count": 2,
   "metadata": {},
   "outputs": [],
   "source": [
    "# Import data\n",
    "\n",
    "\n",
    "# SName = 'sesr'\n",
    "# sesr = LoadNC('sesr_all_years_USDMTimeScale_conus.nc', SName)\n",
    "# sesrSub = SubsetData(sesr, sesr['lat'], sesr['lon'], LatMin, LatMax, LonMin, LonMax)\n",
    "\n",
    "# SName = 'SPI'\n",
    "# spi = LoadNC('SPI_all_years_USDMTimeScale_conus.nc', SName)\n",
    "# spiSub = SubsetData(spi, spi['lat'], spi['lon'], LatMin, LatMax, LonMin, LonMax)\n",
    "\n",
    "# SName = 'USDM'\n",
    "# usdm = LoadNC('USDM_grid_all_years.nc', SName)\n",
    "# usdmSub = SubsetData(usdm, usdm['lat'], usdm['lon'], LatMin, LatMax, LonMin, LonMax)"
   ]
  },
  {
   "cell_type": "code",
   "execution_count": null,
   "metadata": {},
   "outputs": [],
   "source": [
    "# Run Perceptron\n",
    "\n",
    "# w = ?\n",
    "# n = ?\n",
    "# SName = 'sesr'\n",
    "# for j in range(0, len(sesrSub)):\n",
    "#    predictions = ?\n",
    "#    for i in range(0, len(predictions)):\n",
    "#         if (predictions[SName][i] != sesr[SName][i]):\n",
    "#             w[i] += n * (sesr[SName][i] - predictions[SName][i]) * sesr[SName][i]\n",
    "#\n",
    "# Do something with w\n",
    "\n",
    "# w = ?\n",
    "# SName = 'SPI'\n",
    "# for j in range(0, len(spiSub)):\n",
    "#    predictions = ?\n",
    "#    for i in range(0, len(predictions)):\n",
    "#         if (predictions[SName][i] != spi[SName][i]):\n",
    "#             w[i] += n * (spi[SName][i] - predictions[SName][i]) * spi[SName][i]\n",
    "#\n",
    "# Do something with w\n",
    "\n",
    "# w = ?\n",
    "# SName = 'USDM'\n",
    "# for j in range(0, len(usdmSub)):\n",
    "#    predictions = ?\n",
    "#    for i in range(0, len(predictions)):\n",
    "#         if (predictions[SName][i] != usdm[SName][i]):\n",
    "#             w[i] += n * (usdm[SName][i] - predictions[SName][i]) * usdm[SName][i]\n",
    "#\n",
    "# Do something with w"
   ]
  }
 ],
 "metadata": {
  "kernelspec": {
   "display_name": "PyCharm (StoneSoup)",
   "language": "python",
   "name": "pycharm-ca8e2acd"
  },
  "language_info": {
   "codemirror_mode": {
    "name": "ipython",
    "version": 3
   },
   "file_extension": ".py",
   "mimetype": "text/x-python",
   "name": "python",
   "nbconvert_exporter": "python",
   "pygments_lexer": "ipython3",
   "version": "3.8.3"
  }
 },
 "nbformat": 4,
 "nbformat_minor": 4
}
